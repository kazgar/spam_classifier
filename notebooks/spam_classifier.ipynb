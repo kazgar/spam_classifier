{
 "cells": [
  {
   "cell_type": "code",
   "execution_count": null,
   "id": "0",
   "metadata": {},
   "outputs": [],
   "source": [
    "from nltk.lm import Vocabulary\n",
    "\n",
    "%load_ext autoreload\n",
    "%autoreload 2\n",
    "\n",
    "import os\n",
    "from email import policy\n",
    "from email.parser import BytesParser\n",
    "\n",
    "import matplotlib.pyplot as plt\n",
    "import numpy as np\n",
    "import pandas as pd\n",
    "import polars as pl\n",
    "\n",
    "from src.spam_classifier.constants import PROJECT_ROOT\n",
    "\n",
    "DATA_DIR = PROJECT_ROOT / \"data\"\n",
    "\n",
    "EASY_HAM = DATA_DIR / \"easy_ham_1\"\n",
    "SPAM = DATA_DIR / \"spam_1\""
   ]
  },
  {
   "cell_type": "code",
   "execution_count": null,
   "id": "1",
   "metadata": {},
   "outputs": [],
   "source": [
    "def parse_email(filepath):\n",
    "    with open(filepath, \"rb\") as f:\n",
    "        msg = BytesParser(policy=policy.default).parse(f)\n",
    "\n",
    "    try:\n",
    "        body = \"\"\n",
    "        if msg.is_multipart():\n",
    "            for part in msg.walk():\n",
    "                if part.get_content_type() == \"text/plain\" and not part.get_content_disposition():\n",
    "                    body += f\"{part.get_content()} \"\n",
    "                    break\n",
    "        else:\n",
    "            body = msg.get_content()\n",
    "    except Exception as e:\n",
    "        print(f\"Error processing {filepath.name}: {e}\")\n",
    "\n",
    "    return {\"body\": body, \"type\": msg.get_content_type()}"
   ]
  },
  {
   "cell_type": "code",
   "execution_count": null,
   "id": "2",
   "metadata": {},
   "outputs": [],
   "source": [
    "ham_emails = [parse_email(f) for f in EASY_HAM.iterdir()]\n",
    "ham_emails_df = pl.from_dicts(ham_emails)\n",
    "\n",
    "spam_emails = [parse_email(f) for f in SPAM.iterdir()]\n",
    "spam_emails_df = pl.from_dicts(spam_emails)"
   ]
  },
  {
   "cell_type": "code",
   "execution_count": null,
   "id": "3",
   "metadata": {},
   "outputs": [],
   "source": [
    "from sklearn.base import BaseEstimator, TransformerMixin\n",
    "\n",
    "from src.spam_classifier.mail_class import Mail\n",
    "\n",
    "\n",
    "class MailTransformer(BaseEstimator, TransformerMixin):\n",
    "    def __init__(self):\n",
    "        pass\n",
    "\n",
    "    def fit(self, X, y=None):\n",
    "        return self\n",
    "\n",
    "    def transform(self, X):\n",
    "        email_list = []\n",
    "        for row in X.rows():\n",
    "            body, type = row\n",
    "            email_list.append(Mail(body, type).transform_mail())\n",
    "        return email_list"
   ]
  },
  {
   "cell_type": "code",
   "execution_count": null,
   "id": "4",
   "metadata": {},
   "outputs": [],
   "source": [
    "transformed_spam = MailTransformer().fit_transform(spam_emails_df)"
   ]
  },
  {
   "cell_type": "code",
   "execution_count": null,
   "id": "5",
   "metadata": {},
   "outputs": [],
   "source": [
    "class MailVocabulary(BaseEstimator, TransformerMixin):\n",
    "    def __init__(self, vocab_size: int = 1000):\n",
    "        self.vocab_size = vocab_size\n",
    "\n",
    "    def fit(self, X, y=None):\n",
    "        word_counter = {}\n",
    "        for word_dict in X:\n",
    "            for word, count in word_dict.items():\n",
    "                word_counter[word] = word_counter.get(word, 0) + count\n",
    "        most_common = list(\n",
    "            dict(sorted(word_counter.items(), key=lambda x: x[1], reverse=True)).keys()\n",
    "        )[: self.vocab_size]\n",
    "        self.vocabulary_ = {word: i for i, word in enumerate([\"unknown\"] + most_common)}\n",
    "        return self\n",
    "\n",
    "    def transform(self, X):\n",
    "        for word_dict in X:\n",
    "            print(word_dict)\n",
    "            break\n",
    "        return"
   ]
  },
  {
   "cell_type": "code",
   "execution_count": null,
   "id": "6",
   "metadata": {},
   "outputs": [],
   "source": [
    "transformed_spam_emails = MailTransformer().fit_transform(spam_emails_df)"
   ]
  },
  {
   "cell_type": "code",
   "execution_count": null,
   "id": "7",
   "metadata": {},
   "outputs": [],
   "source": [
    "mail_vocab = MailVocabulary()\n",
    "\n",
    "mail_vocab.fit_transform(transformed_spam_emails)"
   ]
  },
  {
   "cell_type": "code",
   "execution_count": null,
   "id": "8",
   "metadata": {},
   "outputs": [],
   "source": []
  }
 ],
 "metadata": {},
 "nbformat": 4,
 "nbformat_minor": 5
}
