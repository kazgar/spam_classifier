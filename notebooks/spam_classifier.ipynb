{
 "cells": [
  {
   "cell_type": "code",
   "execution_count": null,
   "id": "0",
   "metadata": {},
   "outputs": [],
   "source": [
    "import email.parser\n",
    "\n",
    "%load_ext autoreload\n",
    "%autoreload 2\n",
    "\n",
    "import os\n",
    "from email import policy\n",
    "from email.parser import BytesParser\n",
    "\n",
    "import matplotlib.pyplot as plt\n",
    "import numpy as np\n",
    "import pandas as pd\n",
    "import polars as pl\n",
    "\n",
    "from src.spam_classifier.constants import PROJECT_ROOT\n",
    "\n",
    "DATA_DIR = PROJECT_ROOT / \"data\"\n",
    "\n",
    "EASY_HAM = DATA_DIR / \"easy_ham_1\"\n",
    "SPAM = DATA_DIR / \"spam_1\""
   ]
  },
  {
   "cell_type": "code",
   "execution_count": null,
   "id": "1",
   "metadata": {},
   "outputs": [],
   "source": [
    "def parse_email(filepath):\n",
    "    with open(filepath, \"rb\") as f:\n",
    "        msg = BytesParser(policy=policy.default).parse(f)\n",
    "\n",
    "    try:\n",
    "        body = \"\"\n",
    "        if msg.is_multipart():\n",
    "            for part in msg.walk():\n",
    "                if part.get_content_type() == \"text/plain\" and not part.get_content_disposition():\n",
    "                    body = part.get_content()\n",
    "                    break\n",
    "        else:\n",
    "            body = msg.get_content()\n",
    "    except Exception as e:\n",
    "        print(f\"Error processing {filepath.name}: {e}\")\n",
    "\n",
    "    return {\"body\": body, \"type\": msg.get_content_type()}"
   ]
  },
  {
   "cell_type": "code",
   "execution_count": null,
   "id": "2",
   "metadata": {},
   "outputs": [],
   "source": [
    "ham_emails = [parse_email(f) for f in EASY_HAM.iterdir()]\n",
    "spam_emails = [parse_email(f) for f in SPAM.iterdir()]"
   ]
  },
  {
   "cell_type": "code",
   "execution_count": null,
   "id": "3",
   "metadata": {},
   "outputs": [],
   "source": [
    "types_of_ham_emails = [mail[\"type\"] for mail in ham_emails]\n",
    "types_of_ham_emails_df = pl.Series(types_of_ham_emails)\n",
    "\n",
    "types_of_ham_emails_df.value_counts().sort(by=\"count\", descending=True).with_columns(\n",
    "    count=pl.col(\"count\") / pl.col(\"count\").sum()\n",
    ")"
   ]
  },
  {
   "cell_type": "code",
   "execution_count": null,
   "id": "4",
   "metadata": {},
   "outputs": [],
   "source": [
    "types_of_spam_emails = [mail[\"type\"] for mail in spam_emails]\n",
    "types_of_spam_emails_df = pl.Series(types_of_spam_emails)\n",
    "\n",
    "types_of_spam_emails_df.value_counts().sort(by=\"count\", descending=True).with_columns(\n",
    "    count=pl.col(\"count\") / pl.col(\"count\").sum()\n",
    ")"
   ]
  },
  {
   "cell_type": "code",
   "execution_count": null,
   "id": "5",
   "metadata": {},
   "outputs": [],
   "source": [
    "from src.spam_classifier.mail_class import Mail\n",
    "\n",
    "for mail in spam_emails:\n",
    "    if mail[\"type\"] == \"text/html\":\n",
    "        mail_inst = Mail(mail[\"body\"], mail[\"type\"])\n",
    "        mail_inst.transform_mail()\n",
    "        break"
   ]
  },
  {
   "cell_type": "code",
   "execution_count": null,
   "id": "6",
   "metadata": {},
   "outputs": [],
   "source": [
    "from src.spam_classifier.mail_class import Mail\n",
    "\n",
    "for mail in ham_emails[1:]:\n",
    "    if mail[\"type\"] == \"multipart/related\":\n",
    "        print(mail)\n",
    "        mail_inst = Mail(mail[\"body\"], mail[\"type\"])\n",
    "        mail_inst.transform_mail()\n",
    "    break"
   ]
  },
  {
   "cell_type": "code",
   "execution_count": null,
   "id": "7",
   "metadata": {},
   "outputs": [],
   "source": []
  }
 ],
 "metadata": {},
 "nbformat": 4,
 "nbformat_minor": 5
}
